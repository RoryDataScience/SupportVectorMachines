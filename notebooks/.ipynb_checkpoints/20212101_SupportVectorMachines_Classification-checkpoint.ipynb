{
 "cells": [
  {
   "cell_type": "markdown",
   "metadata": {},
   "source": [
    "**Project Aim** <br>\n",
    "This notebooks is to apply Support Vector Machines to a Classification problem\n",
    "\n",
    "Develop a model using Support Vector Machine which should correctly classify the handwritten digits from 0-9 based on the pixel values given as features. Thus, this is a 10-class classification problem.\n",
    "\n",
    "**Project Assumptions**\n",
    "\n",
    "**Project Objective**\n",
    "- Basic EDA of the MNIST Dataset\n",
    "    - How should pixal data be analysed?\n",
    "    - Use new plots from Seaborn\n",
    "    - Implement groupby functions in pandas to analyse different data aggregations\n",
    "    - What columns are identical or have very similar distributions?\n",
    "    - Outlier analysis and associated impact\n",
    "- Implement one solution to reduce dimensionality\n",
    "- Understand the framework of support vector machines \n",
    "    - Build a model that overfits a small proporion of the dataset and how to reach this conclusion\n",
    "    - Understand methods to select features for classification problems\n",
    "    - Include bias/variance trade off analysis\n",
    "    - liblinear and libvsm libraries \n",
    "    - Cross Validation Strategy (LOO_CV)\n",
    "    - Sci-Kit Learns Transformation Pipeline (page 66 - Hands on ML with Sci-kit Learn sklearn.pipeline import Pipeline)\n",
    "- Application of multiple Kernal Types and model performance analysis\n",
    "- Understand and apply an appropriate loss function \n",
    "    - Hinge Loss\n",
    "- Feature Selection/Scaling\n",
    "    - Add randomised features\n",
    "    - Implement Scaling/Normalisation using Sci-kit learn Pipeline\n",
    "- Hyperparameter Tuning (Implement and understand grid search plus evaluate where the model over/underfits)\n",
    "    - Grid Search for parameters (page 72 - Hands on ML): Determine which parameters need to be optimised \n",
    "- Understand how explainability may be applied to SVM Classification problems\n",
    "- Investigate if SVM model can be plotted \n",
    "    - Error evaluation: Where does the system commonly make mistakes and how can this be improved?\n",
    "- Dockerise the solution \n",
    "- Document brief conclusions \n",
    "    - Think where bias might be incorporated in the model and how this can be treated --- Poor quality measures?\n",
    "    - What is the scope that the model can predict and where could it have issues generalising e.g. new categories?\n",
    "- Document and understand 3 key learningd from other kaggle solutions\n",
    "\n",
    "**Support Vector Machine Notes**\n",
    "- Hands-On Machine Learning with Scikit-Learn & Tensorflow\n",
    "- Mastering Predictive Analytics with R\n",
    "- Andrew Ng SVM <br>\n",
    "https://www.youtube.com/watch?v=XfyR_49hfi8&list=PLLssT5z_DsK-h9vYZkQkYNWcItqhlRJLN&index=74\n",
    "\n",
    "**Parameters**\n",
    "- Choice of parameter C\n",
    "- Choice of kernel (similarity function)\n",
    "    - Linear SVM uses no Kernel: Standard linear classifier (use when large number of features but small dataset)\n",
    "    - Gaussian: Will require selection of parameter sigma^2 (use when small number of features but large training set)\n",
    "        - **Perform feature scaling before implementing a gaussian kernel**\n",
    "\n",
    "**Algorithm Performance on MNIST Dataset**\n",
    "- Benchmark Model:\n",
    "- Optimal Performance (Personal): \n",
    "- Optimal Performance (Kaggle): Error rates as low as 0.23% (99.77 Accuracy)\n",
    "\n",
    "**References** <br>\n",
    "https://www.researchgate.net/publication/230800948_The_Secrets_to_Managing_Business_Analytics_Projects <br>\n",
    "https://towardsdatascience.com/an-intro-to-kernels-9ff6c6a6a8dc <br>\n",
    "https://towardsdatascience.com/visualizing-statistical-plots-with-seaborn-6b6e60ce5e71 <br>\n",
    "https://medium.com/analytics-vidhya/5-lesser-known-seaborn-plots-most-people-dont-know-82e5a54baea8 <br>\n",
    "https://towardsdatascience.com/11-examples-to-master-pandas-groupby-function-86e0de574f38 <br>\n",
    "https://machinelearningmastery.com/feature-selection-subspace-ensemble-in-python/ <br>\n",
    "https://towardsdatascience.com/one-potential-cause-of-overfitting-that-i-never-noticed-before-a57904c8c89d <br>\n",
    "https://machinelearningmastery.com/cross-validation-for-imbalanced-classification/ <br>\n",
    "https://machinelearningmastery.com/failure-of-accuracy-for-imbalanced-class-distributions/ <br>\n",
    "https://machinelearningmastery.com/feature-selection-with-real-and-categorical-data/"
   ]
  },
  {
   "cell_type": "code",
   "execution_count": 102,
   "metadata": {},
   "outputs": [],
   "source": [
    "import os\n",
    "import pandas as pd"
   ]
  },
  {
   "cell_type": "code",
   "execution_count": 103,
   "metadata": {},
   "outputs": [
    {
     "data": {
      "text/plain": [
       "'/Users/Rej1992/Documents/GitHub/SupportVectorMachines/notebooks'"
      ]
     },
     "execution_count": 103,
     "metadata": {},
     "output_type": "execute_result"
    }
   ],
   "source": [
    "os.getcwd()"
   ]
  },
  {
   "cell_type": "code",
   "execution_count": 104,
   "metadata": {},
   "outputs": [],
   "source": [
    "train_data = pd.read_csv('/Users/Rej1992/Desktop/SVM_Data/mnist_train.csv')\n",
    "test_data = pd.read_csv('/Users/Rej1992/Desktop/SVM_Data/mnist_test.csv')"
   ]
  },
  {
   "cell_type": "code",
   "execution_count": 105,
   "metadata": {},
   "outputs": [],
   "source": [
    "# Create a representative sample of the data set\n",
    "import random\n",
    "import numpy as np\n",
    "\n",
    "train_data = train_data.sample(n = 2000, replace = False) \n",
    "test_data = test_data.sample(n = 2000, replace = False) "
   ]
  },
  {
   "cell_type": "code",
   "execution_count": 106,
   "metadata": {},
   "outputs": [],
   "source": [
    "# Remove duplicated columns \n",
    "train_data = train_data.loc[:,~train_data.columns.duplicated()]\n",
    "test_data = test_data.loc[:,~test_data.columns.duplicated()]"
   ]
  },
  {
   "cell_type": "code",
   "execution_count": 107,
   "metadata": {},
   "outputs": [],
   "source": [
    "def _remove_columns_unique_values(data):\n",
    "    \n",
    "    nunique = data.apply(pd.Series.nunique)\n",
    "    cols_to_drop = nunique[nunique == 1].index\n",
    "    \n",
    "    return data.drop(cols_to_drop, axis=1)\n",
    "\n",
    "test_data = _remove_columns_unique_values(test_data)\n",
    "train_data = _remove_columns_unique_values(train_data)"
   ]
  },
  {
   "cell_type": "code",
   "execution_count": 108,
   "metadata": {},
   "outputs": [
    {
     "name": "stdout",
     "output_type": "stream",
     "text": [
      "Index(['11x1', '11x28', '12x1', '12x28', '13x2', '14x2', '17x2', '19x28',\n",
      "       '20x28', '24x2', '2x6', '2x7', '4x27', '6x2'],\n",
      "      dtype='object')\n",
      "Index(['18x2', '19x1', '1x13', '1x14', '1x15', '1x16', '20x1', '22x2', '23x2',\n",
      "       '25x3', '2x22', '2x23', '2x24', '3x26', '3x4', '3x5', '4x4', '8x1',\n",
      "       '9x1'],\n",
      "      dtype='object')\n"
     ]
    }
   ],
   "source": [
    "# Check column overlap\n",
    "print(test_data.columns.difference(train_data.columns))\n",
    "print(train_data.columns.difference(test_data.columns))"
   ]
  },
  {
   "cell_type": "code",
   "execution_count": 109,
   "metadata": {},
   "outputs": [],
   "source": [
    "# Retain only columns that exist in the test data set\n",
    "train_data = train_data.drop(train_data.columns.difference(test_data.columns), axis=1)\n",
    "test_data = test_data.drop(test_data.columns.difference(train_data.columns), axis=1)"
   ]
  },
  {
   "cell_type": "code",
   "execution_count": 110,
   "metadata": {},
   "outputs": [
    {
     "data": {
      "text/plain": [
       "array([dtype('int64')], dtype=object)"
      ]
     },
     "execution_count": 110,
     "metadata": {},
     "output_type": "execute_result"
    }
   ],
   "source": [
    "# Verfiy the data type \n",
    "train_data.dtypes.unique()"
   ]
  },
  {
   "cell_type": "code",
   "execution_count": 111,
   "metadata": {},
   "outputs": [],
   "source": [
    "# Remove missing targets\n",
    "train_data = train_data[train_data.label.notnull()]"
   ]
  },
  {
   "cell_type": "code",
   "execution_count": 112,
   "metadata": {},
   "outputs": [
    {
     "data": {
      "text/plain": [
       "<seaborn.axisgrid.FacetGrid at 0x12336df60>"
      ]
     },
     "execution_count": 112,
     "metadata": {},
     "output_type": "execute_result"
    },
    {
     "data": {
      "image/png": "[encoded data removed]",
      "text/plain": [
       "<Figure size 360x360 with 1 Axes>"
      ]
     },
     "metadata": {
      "needs_background": "light"
     },
     "output_type": "display_data"
    }
   ],
   "source": [
    "# Analyse the distribution of the target\n",
    "import seaborn as sns\n",
    "sns.catplot(x=\"label\", kind=\"count\", palette=\"ch:.25\", data=train_data)"
   ]
  },
  {
   "cell_type": "code",
   "execution_count": 113,
   "metadata": {},
   "outputs": [
    {
     "data": {
      "text/plain": [
       "15x15    113.986892\n",
       "14x15    113.539086\n",
       "17x14    113.061911\n",
       "17x15    112.927888\n",
       "16x14    112.927043\n",
       "16x15    112.795280\n",
       "23x12    112.645162\n",
       "7x15     112.469078\n",
       "16x18    112.464024\n",
       "23x15    112.440427\n",
       "dtype: float64"
      ]
     },
     "execution_count": 113,
     "metadata": {},
     "output_type": "execute_result"
    }
   ],
   "source": [
    "train_data.std().sort_values(ascending=False).head(10)"
   ]
  },
  {
   "cell_type": "code",
   "execution_count": 114,
   "metadata": {},
   "outputs": [],
   "source": [
    "train_data = train_data[['label', '14x15', '15x15', '23x12', '23x13', '17x14', '15x18', '16x14', '16x18', '7x16', '7x15']]"
   ]
  },
  {
   "cell_type": "code",
   "execution_count": 115,
   "metadata": {},
   "outputs": [
    {
     "data": {
      "text/html": [
       "<div>\n",
       "<style scoped>\n",
       "    .dataframe tbody tr th:only-of-type {\n",
       "        vertical-align: middle;\n",
       "    }\n",
       "\n",
       "    .dataframe tbody tr th {\n",
       "        vertical-align: top;\n",
       "    }\n",
       "\n",
       "    .dataframe thead th {\n",
       "        text-align: right;\n",
       "    }\n",
       "</style>\n",
       "<table border=\"1\" class=\"dataframe\">\n",
       "  <thead>\n",
       "    <tr style=\"text-align: right;\">\n",
       "      <th></th>\n",
       "      <th>label</th>\n",
       "      <th>14x15</th>\n",
       "      <th>15x15</th>\n",
       "      <th>23x12</th>\n",
       "      <th>23x13</th>\n",
       "      <th>17x14</th>\n",
       "      <th>15x18</th>\n",
       "      <th>16x14</th>\n",
       "      <th>16x18</th>\n",
       "      <th>7x16</th>\n",
       "      <th>7x15</th>\n",
       "    </tr>\n",
       "  </thead>\n",
       "  <tbody>\n",
       "    <tr>\n",
       "      <th>count</th>\n",
       "      <td>10000.00000</td>\n",
       "      <td>10000.000000</td>\n",
       "      <td>10000.000000</td>\n",
       "      <td>10000.000000</td>\n",
       "      <td>10000.000000</td>\n",
       "      <td>10000.000000</td>\n",
       "      <td>10000.000000</td>\n",
       "      <td>10000.000000</td>\n",
       "      <td>10000.000000</td>\n",
       "      <td>10000.000000</td>\n",
       "      <td>10000.000000</td>\n",
       "    </tr>\n",
       "    <tr>\n",
       "      <th>mean</th>\n",
       "      <td>4.46000</td>\n",
       "      <td>110.727700</td>\n",
       "      <td>129.835300</td>\n",
       "      <td>112.217800</td>\n",
       "      <td>121.276600</td>\n",
       "      <td>115.142800</td>\n",
       "      <td>129.776500</td>\n",
       "      <td>121.990400</td>\n",
       "      <td>122.047200</td>\n",
       "      <td>125.926500</td>\n",
       "      <td>119.930600</td>\n",
       "    </tr>\n",
       "    <tr>\n",
       "      <th>std</th>\n",
       "      <td>2.88857</td>\n",
       "      <td>113.539086</td>\n",
       "      <td>113.986892</td>\n",
       "      <td>112.645162</td>\n",
       "      <td>112.417357</td>\n",
       "      <td>113.061911</td>\n",
       "      <td>112.405421</td>\n",
       "      <td>112.927043</td>\n",
       "      <td>112.464024</td>\n",
       "      <td>112.244043</td>\n",
       "      <td>112.469078</td>\n",
       "    </tr>\n",
       "    <tr>\n",
       "      <th>min</th>\n",
       "      <td>0.00000</td>\n",
       "      <td>0.000000</td>\n",
       "      <td>0.000000</td>\n",
       "      <td>0.000000</td>\n",
       "      <td>0.000000</td>\n",
       "      <td>0.000000</td>\n",
       "      <td>0.000000</td>\n",
       "      <td>0.000000</td>\n",
       "      <td>0.000000</td>\n",
       "      <td>0.000000</td>\n",
       "      <td>0.000000</td>\n",
       "    </tr>\n",
       "    <tr>\n",
       "      <th>25%</th>\n",
       "      <td>2.00000</td>\n",
       "      <td>0.000000</td>\n",
       "      <td>0.000000</td>\n",
       "      <td>0.000000</td>\n",
       "      <td>0.000000</td>\n",
       "      <td>0.000000</td>\n",
       "      <td>0.000000</td>\n",
       "      <td>0.000000</td>\n",
       "      <td>0.000000</td>\n",
       "      <td>0.000000</td>\n",
       "      <td>0.000000</td>\n",
       "    </tr>\n",
       "    <tr>\n",
       "      <th>50%</th>\n",
       "      <td>4.00000</td>\n",
       "      <td>64.000000</td>\n",
       "      <td>143.000000</td>\n",
       "      <td>78.000000</td>\n",
       "      <td>115.000000</td>\n",
       "      <td>87.000000</td>\n",
       "      <td>146.000000</td>\n",
       "      <td>115.000000</td>\n",
       "      <td>116.000000</td>\n",
       "      <td>132.000000</td>\n",
       "      <td>114.000000</td>\n",
       "    </tr>\n",
       "    <tr>\n",
       "      <th>75%</th>\n",
       "      <td>7.00000</td>\n",
       "      <td>252.000000</td>\n",
       "      <td>253.000000</td>\n",
       "      <td>252.000000</td>\n",
       "      <td>252.000000</td>\n",
       "      <td>252.000000</td>\n",
       "      <td>252.000000</td>\n",
       "      <td>252.000000</td>\n",
       "      <td>252.000000</td>\n",
       "      <td>252.000000</td>\n",
       "      <td>252.000000</td>\n",
       "    </tr>\n",
       "    <tr>\n",
       "      <th>max</th>\n",
       "      <td>9.00000</td>\n",
       "      <td>255.000000</td>\n",
       "      <td>255.000000</td>\n",
       "      <td>255.000000</td>\n",
       "      <td>255.000000</td>\n",
       "      <td>255.000000</td>\n",
       "      <td>255.000000</td>\n",
       "      <td>255.000000</td>\n",
       "      <td>255.000000</td>\n",
       "      <td>255.000000</td>\n",
       "      <td>255.000000</td>\n",
       "    </tr>\n",
       "  </tbody>\n",
       "</table>\n",
       "</div>"
      ],
      "text/plain": [
       "             label         14x15         15x15         23x12         23x13  \\\n",
       "count  10000.00000  10000.000000  10000.000000  10000.000000  10000.000000   \n",
       "mean       4.46000    110.727700    129.835300    112.217800    121.276600   \n",
       "std        2.88857    113.539086    113.986892    112.645162    112.417357   \n",
       "min        0.00000      0.000000      0.000000      0.000000      0.000000   \n",
       "25%        2.00000      0.000000      0.000000      0.000000      0.000000   \n",
       "50%        4.00000     64.000000    143.000000     78.000000    115.000000   \n",
       "75%        7.00000    252.000000    253.000000    252.000000    252.000000   \n",
       "max        9.00000    255.000000    255.000000    255.000000    255.000000   \n",
       "\n",
       "              17x14         15x18         16x14         16x18          7x16  \\\n",
       "count  10000.000000  10000.000000  10000.000000  10000.000000  10000.000000   \n",
       "mean     115.142800    129.776500    121.990400    122.047200    125.926500   \n",
       "std      113.061911    112.405421    112.927043    112.464024    112.244043   \n",
       "min        0.000000      0.000000      0.000000      0.000000      0.000000   \n",
       "25%        0.000000      0.000000      0.000000      0.000000      0.000000   \n",
       "50%       87.000000    146.000000    115.000000    116.000000    132.000000   \n",
       "75%      252.000000    252.000000    252.000000    252.000000    252.000000   \n",
       "max      255.000000    255.000000    255.000000    255.000000    255.000000   \n",
       "\n",
       "               7x15  \n",
       "count  10000.000000  \n",
       "mean     119.930600  \n",
       "std      112.469078  \n",
       "min        0.000000  \n",
       "25%        0.000000  \n",
       "50%      114.000000  \n",
       "75%      252.000000  \n",
       "max      255.000000  "
      ]
     },
     "execution_count": 115,
     "metadata": {},
     "output_type": "execute_result"
    }
   ],
   "source": [
    "train_data.describe()"
   ]
  },
  {
   "cell_type": "code",
   "execution_count": 116,
   "metadata": {},
   "outputs": [
    {
     "data": {
      "text/plain": [
       "label    0\n",
       "14x15    0\n",
       "15x15    0\n",
       "23x12    0\n",
       "23x13    0\n",
       "17x14    0\n",
       "15x18    0\n",
       "16x14    0\n",
       "16x18    0\n",
       "7x16     0\n",
       "7x15     0\n",
       "dtype: int64"
      ]
     },
     "execution_count": 116,
     "metadata": {},
     "output_type": "execute_result"
    }
   ],
   "source": [
    "train_data.isnull().sum()"
   ]
  },
  {
   "cell_type": "code",
   "execution_count": 119,
   "metadata": {},
   "outputs": [],
   "source": [
    "# Feature Engineering \n",
    "## Normalisation/Standardisation\n",
    "## Discretise continuous variables \n",
    "## Feature transformations and interactions (product/sum etc.)\n",
    "## Create a set of randomised features "
   ]
  },
  {
   "cell_type": "code",
   "execution_count": 134,
   "metadata": {},
   "outputs": [],
   "source": [
    "# spot check machine learning algorithms on the adult imbalanced dataset\n",
    "# https://machinelearningmastery.com/imbalanced-classification-with-the-adult-income-dataset/\n",
    "from numpy import mean\n",
    "from numpy import std\n",
    "from matplotlib import pyplot\n",
    "from sklearn.preprocessing import LabelEncoder\n",
    "from sklearn.preprocessing import OneHotEncoder\n",
    "from sklearn.preprocessing import MinMaxScaler\n",
    "from sklearn.pipeline import Pipeline\n",
    "from sklearn.compose import ColumnTransformer\n",
    "from sklearn.model_selection import cross_val_score\n",
    "from sklearn.model_selection import RepeatedStratifiedKFold\n",
    "from sklearn.svm import SVC\n",
    "from sklearn.ensemble import GradientBoostingClassifier"
   ]
  },
  {
   "cell_type": "code",
   "execution_count": 141,
   "metadata": {},
   "outputs": [],
   "source": [
    "# Establish X and y & label encode the target variable to have the classes 0 and 1\n",
    "y = LabelEncoder().fit_transform(train_data.label)\n",
    "X = train_data.drop('label', 1)\n",
    "num_ix = X.select_dtypes(include=['int64', 'float64']).columns"
   ]
  },
  {
   "cell_type": "code",
   "execution_count": 142,
   "metadata": {},
   "outputs": [],
   "source": [
    "# Create a benchmark duummy model\n"
   ]
  },
  {
   "cell_type": "code",
   "execution_count": 143,
   "metadata": {},
   "outputs": [],
   "source": [
    "# evaluate a model\n",
    "def evaluate_model(X, y, model):\n",
    "    # define evaluation procedure\n",
    "    cv = RepeatedStratifiedKFold(n_splits=10, n_repeats=3, random_state=1)\n",
    "    \n",
    "    # evaluate model\n",
    "    scores = cross_val_score(model, X, y, scoring='accuracy', cv=cv, n_jobs=-1)\n",
    "    \n",
    "    return scores"
   ]
  },
  {
   "cell_type": "code",
   "execution_count": 144,
   "metadata": {},
   "outputs": [],
   "source": [
    "# Define models to test: Support Vector Machine \n",
    "def get_models():\n",
    "    models, names = list(), list()\n",
    "    # SVM\n",
    "    models.append(SVC(gamma='scale'))\n",
    "    names.append('SVM')\n",
    "    \n",
    "    # GBM\n",
    "    models.append(GradientBoostingClassifier(n_estimators=100))\n",
    "    names.append('GBM')\n",
    "    \n",
    "    return models, names"
   ]
  },
  {
   "cell_type": "code",
   "execution_count": 145,
   "metadata": {},
   "outputs": [
    {
     "name": "stdout",
     "output_type": "stream",
     "text": [
      ">SVM 0.579 (0.014)\n",
      ">GBM 0.609 (0.013)\n"
     ]
    },
    {
     "data": {
      "image/png": "[encoded data removed]",
      "text/plain": [
       "<Figure size 432x288 with 1 Axes>"
      ]
     },
     "metadata": {
      "needs_background": "light"
     },
     "output_type": "display_data"
    }
   ],
   "source": [
    "# define models\n",
    "models, names = get_models()\n",
    "results = list()\n",
    "\n",
    "# evaluate each model\n",
    "for i in range(len(models)):\n",
    "    # define steps\n",
    "    steps = [('n',MinMaxScaler(), num_ix)]\n",
    "    \n",
    "    # one hot encode categorical, normalize numerical\n",
    "    ct = ColumnTransformer(steps)\n",
    "    \n",
    "    # wrap the model i a pipeline\n",
    "    pipeline = Pipeline(steps=[('t',ct),('m',models[i])])\n",
    "    \n",
    "    # evaluate the model and store results\n",
    "    scores = evaluate_model(X, y, pipeline)\n",
    "    results.append(scores)\n",
    "    \n",
    "    # summarize performance\n",
    "    print('>%s %.3f (%.3f)' % (names[i], mean(scores), std(scores)))\n",
    "    \n",
    "# plot the results\n",
    "pyplot.boxplot(results, labels=names, showmeans=True)\n",
    "pyplot.show()"
   ]
  },
  {
   "cell_type": "code",
   "execution_count": null,
   "metadata": {},
   "outputs": [],
   "source": []
  }
 ],
 "metadata": {
  "kernelspec": {
   "display_name": "Python 3",
   "language": "python",
   "name": "python3"
  },
  "language_info": {
   "codemirror_mode": {
    "name": "ipython",
    "version": 3
   },
   "file_extension": ".py",
   "mimetype": "text/x-python",
   "name": "python",
   "nbconvert_exporter": "python",
   "pygments_lexer": "ipython3",
   "version": "3.6.5"
  }
 },
 "nbformat": 4,
 "nbformat_minor": 4
}
