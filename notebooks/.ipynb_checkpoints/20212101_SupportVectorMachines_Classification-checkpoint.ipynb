{
 "cells": [
  {
   "cell_type": "markdown",
   "metadata": {},
   "source": [
    "**Project Aim**\n",
    "This notebooks is to apply Support Vector Machines to a Classification problem\n",
    "\n",
    "**Project Objective**\n",
    "- Basic EDA of the MNIST Dataset\n",
    "- Understand the framework of support vector machines \n",
    "- Application of multiple Kernal Types and model performance analysis\n",
    "- Understand and apply an appropriate loss function \n",
    "- Hyperparameter Tuning (Implement and understand grid search plus evaluate where the model over/underfits)\n",
    "- Understand how explainability may be applied to SVM Classification problems\n",
    "- Dockerise the solution \n",
    "- Document brief conclusions \n",
    "- Document and understand 3 key learningd from other kaggle solutions\n",
    "\n",
    "**References**"
   ]
  },
  {
   "cell_type": "code",
   "execution_count": null,
   "metadata": {},
   "outputs": [],
   "source": []
  }
 ],
 "metadata": {
  "kernelspec": {
   "display_name": "Python 3",
   "language": "python",
   "name": "python3"
  },
  "language_info": {
   "codemirror_mode": {
    "name": "ipython",
    "version": 3
   },
   "file_extension": ".py",
   "mimetype": "text/x-python",
   "name": "python",
   "nbconvert_exporter": "python",
   "pygments_lexer": "ipython3",
   "version": "3.6.5"
  }
 },
 "nbformat": 4,
 "nbformat_minor": 4
}
